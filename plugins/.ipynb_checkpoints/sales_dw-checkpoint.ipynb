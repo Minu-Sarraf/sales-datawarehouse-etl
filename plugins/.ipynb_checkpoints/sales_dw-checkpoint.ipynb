{
 "cells": [
  {
   "cell_type": "code",
   "execution_count": 2,
   "id": "bd2babc6",
   "metadata": {},
   "outputs": [],
   "source": [
    "import pandas as pd\n",
    "import json\n",
    "import glob"
   ]
  },
  {
   "cell_type": "code",
   "execution_count": 8,
   "id": "22c16d53",
   "metadata": {},
   "outputs": [],
   "source": [
    "class LoadInvoice:\n",
    "    def __init__(self):\n",
    "        print(\"Object created.\")\n",
    "        \n",
    "    def read_invoices(self, date):\n",
    "        path = \n",
    "        list_data = []\n",
    "        list_filenames =[]\n",
    "        for file in glob.glob(\"/invoices/{}/*.json\".format('d'+ str(date))):\n",
    "            # print(file)\n",
    "            list_filenames.append(file)\n",
    "            with open(file, 'r') as f:\n",
    "                data = json.load(f)\n",
    "                list_data.append(data)\n",
    "\n",
    "        invoice_df = pd.DataFrame.from_records(list_data)\n",
    "        return invoice_df"
   ]
  },
  {
   "cell_type": "code",
   "execution_count": 7,
   "id": "e5be4ec0",
   "metadata": {},
   "outputs": [
    {
     "name": "stdout",
     "output_type": "stream",
     "text": [
      "Object created.\n"
     ]
    },
    {
     "data": {
      "text/html": [
       "<div>\n",
       "<style scoped>\n",
       "    .dataframe tbody tr th:only-of-type {\n",
       "        vertical-align: middle;\n",
       "    }\n",
       "\n",
       "    .dataframe tbody tr th {\n",
       "        vertical-align: top;\n",
       "    }\n",
       "\n",
       "    .dataframe thead th {\n",
       "        text-align: right;\n",
       "    }\n",
       "</style>\n",
       "<table border=\"1\" class=\"dataframe\">\n",
       "  <thead>\n",
       "    <tr style=\"text-align: right;\">\n",
       "      <th></th>\n",
       "    </tr>\n",
       "  </thead>\n",
       "  <tbody>\n",
       "  </tbody>\n",
       "</table>\n",
       "</div>"
      ],
      "text/plain": [
       "Empty DataFrame\n",
       "Columns: []\n",
       "Index: []"
      ]
     },
     "metadata": {},
     "output_type": "display_data"
    }
   ],
   "source": [
    "obj = LoadInvoice()\n",
    "invoice_df = obj.read_invoices('2022-1-12')\n",
    "display(invoice_df)"
   ]
  },
  {
   "cell_type": "code",
   "execution_count": 5,
   "id": "8d382d2d",
   "metadata": {},
   "outputs": [
    {
     "data": {
      "text/plain": [
       "'/home/dell/Documents/datawarehouse/plugins'"
      ]
     },
     "execution_count": 5,
     "metadata": {},
     "output_type": "execute_result"
    }
   ],
   "source": [
    "pwd\n"
   ]
  }
 ],
 "metadata": {
  "kernelspec": {
   "display_name": "Python 3",
   "language": "python",
   "name": "python3"
  },
  "language_info": {
   "codemirror_mode": {
    "name": "ipython",
    "version": 3
   },
   "file_extension": ".py",
   "mimetype": "text/x-python",
   "name": "python",
   "nbconvert_exporter": "python",
   "pygments_lexer": "ipython3",
   "version": "3.8.8"
  }
 },
 "nbformat": 4,
 "nbformat_minor": 5
}
